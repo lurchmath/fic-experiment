{
 "cells": [
  {
   "cell_type": "markdown",
   "metadata": {},
   "source": [
    "# How to use FIC in Jupyter\n",
    "\n",
    "First note that the kernel for this notebook is Node.js, as indicated in the top right.\n",
    "\n",
    "Since I have it stored in the main folder of the repository, I can import tools from this repo like so:"
   ]
  },
  {
   "cell_type": "code",
   "execution_count": 1,
   "metadata": {},
   "outputs": [],
   "source": [
    "const {\n",
    "    OM, LC, Statement, Environment,\n",
    "    MatchingProblem, MatchingSolution, Turnstile\n",
    "} = require( './classes/all.js' )"
   ]
  },
  {
   "cell_type": "markdown",
   "metadata": {},
   "source": [
    "## Creating OpenMath and LC objects\n",
    "\n",
    "The usual `OM.simple()` factory function builds OpenMath objects, which have been taught to represent themselves using a simple encoding."
   ]
  },
  {
   "cell_type": "code",
   "execution_count": 2,
   "metadata": {},
   "outputs": [
    {
     "data": {
      "text/html": [
       "$f(x,y)$"
      ],
      "text/latex": [
       "$f(x,y)$"
      ],
      "text/plain": [
       "OMNode {\n",
       "  tree: { t: 'a', c: [ [Object], [Object], [Object] ], p: null }\n",
       "}"
      ]
     },
     "execution_count": 2,
     "metadata": {},
     "output_type": "execute_result"
    }
   ],
   "source": [
    "OM.simple( 'f(x,y)' )"
   ]
  },
  {
   "cell_type": "markdown",
   "metadata": {},
   "source": [
    "All the usual building blocks for LCs work as well, and LC objects have been taught to represent themselves using standard LC notation."
   ]
  },
  {
   "cell_type": "code",
   "execution_count": 3,
   "metadata": {},
   "outputs": [
    {
     "data": {
      "text/html": [
       "<pre>{ f(x) { :A B } }</pre>"
      ],
      "text/latex": [
       "$\\{~f(x)~\\{~{:}A~B~\\}~\\}$"
      ],
      "text/plain": [
       "<ref *1> Environment {\n",
       "  attributes: { declaration: 'none', formula: false },\n",
       "  parentNode: null,\n",
       "  childList: [\n",
       "    Statement {\n",
       "      attributes: [Object],\n",
       "      parentNode: [Circular *1],\n",
       "      childList: [Array],\n",
       "      dirty: false,\n",
       "      className: 'Statement',\n",
       "      containsAMetavariable: [Function: containsAMetavariable]\n",
       "    },\n",
       "    Environment {\n",
       "      attributes: [Object],\n",
       "      parentNode: [Circular *1],\n",
       "      childList: [Array],\n",
       "      dirty: false,\n",
       "      className: 'Environment',\n",
       "      containsAMetavariable: [Function: containsAMetavariable],\n",
       "      isAQuantifier: false\n",
       "    }\n",
       "  ],\n",
       "  dirty: false,\n",
       "  className: 'Environment',\n",
       "  containsAMetavariable: [Function: containsAMetavariable]\n",
       "}"
      ]
     },
     "execution_count": 3,
     "metadata": {},
     "output_type": "execute_result"
    }
   ],
   "source": [
    "new Environment( LC.fromString( 'f(x)' ), LC.fromString( '{ :A B }' ) )"
   ]
  },
  {
   "cell_type": "markdown",
   "metadata": {},
   "source": [
    "## Asking matching questions\n",
    "\n",
    "You can create a matching problem by providing a list of pattern-expression pairs.  Here we provide just one.  Note that the `MatchingProblem` object knows to represent itself as a table of its defining pairs."
   ]
  },
  {
   "cell_type": "code",
   "execution_count": 4,
   "metadata": {},
   "outputs": [
    {
     "data": {
      "text/html": [
       "<table style=\"border: 1px solid black;\"><tr><td>Pattern</td><td>Expression</td></tr><tr><td style=\"text-align: left;\">f(A,B)</td><td style=\"text-align: left;\">f(one,two)</td></tr></table>"
      ],
      "text/latex": [
       "\\begin{tabular}{ll}\n",
       "Pattern & Expression \\\\\\hline\n",
       "$f(A,B)$ & $f(one,two)$\n",
       "\\end{tabular}"
      ],
      "text/plain": [
       "MatchingProblem {\n",
       "  _MC: MatchingChallenge {\n",
       "    challengeList: ConstraintList {\n",
       "      contents: [Array],\n",
       "      nextNewVariableIndex: 0,\n",
       "      bindingConstraints: []\n",
       "    },\n",
       "    solutions: [],\n",
       "    solvable: undefined\n",
       "  }\n",
       "}"
      ]
     },
     "execution_count": 4,
     "metadata": {},
     "output_type": "execute_result"
    }
   ],
   "source": [
    "setCapitalsMetavars = ( inThis ) => {\n",
    "    if ( inThis.identifier && inThis.identifier == inThis.identifier.toUpperCase() )\n",
    "        inThis.isAMetavariable = true\n",
    "    inThis.children().map( setCapitalsMetavars )\n",
    "}\n",
    "\n",
    "pattern = LC.fromString( 'f(A,B)' )\n",
    "setCapitalsMetavars( pattern )\n",
    "\n",
    "expression = LC.fromString( 'f(one,two)' )\n",
    "\n",
    "P = new MatchingProblem( [ pattern, expression ] )\n",
    "P"
   ]
  },
  {
   "cell_type": "markdown",
   "metadata": {},
   "source": [
    "If we ask it for its solutions, the result is an array, which doesn't have any special printing properties, so it doesn't come out very nicely:"
   ]
  },
  {
   "cell_type": "code",
   "execution_count": 5,
   "metadata": {},
   "outputs": [
    {
     "data": {
      "text/plain": [
       "[ MatchingSolution { _mapping: { A: [Statement], B: [Statement] } } ]"
      ]
     },
     "execution_count": 5,
     "metadata": {},
     "output_type": "execute_result"
    }
   ],
   "source": [
    "P.getSolutions()"
   ]
  },
  {
   "cell_type": "markdown",
   "metadata": {},
   "source": [
    "But we can ask for the first element of the array, and then the `MatchingSolution` object knows to pretty-print itself as a table of metavariable instantiations."
   ]
  },
  {
   "cell_type": "code",
   "execution_count": 6,
   "metadata": {},
   "outputs": [
    {
     "data": {
      "text/html": [
       "<table style=\"border: 1px solid black;\"><tr><td>Metavariable</td><td>Instantiation</td></tr><tr><td>A</td><td style=\"text-align: left;\">one</td></tr><tr><td>B</td><td style=\"text-align: left;\">two</td></tr></table>"
      ],
      "text/latex": [
       "\\begin{tabular}{rl}\n",
       "Metavariable & Instantiation \\\\\\hline\n",
       "A & $one$\\\\\n",
       "B & $two$\n",
       "\\end{tabular}"
      ],
      "text/plain": [
       "MatchingSolution {\n",
       "  _mapping: {\n",
       "    A: Statement {\n",
       "      attributes: [Object],\n",
       "      parentNode: null,\n",
       "      childList: [],\n",
       "      dirty: false,\n",
       "      className: 'Statement',\n",
       "      containsAMetavariable: [Function: containsAMetavariable]\n",
       "    },\n",
       "    B: Statement {\n",
       "      attributes: [Object],\n",
       "      parentNode: null,\n",
       "      childList: [],\n",
       "      dirty: false,\n",
       "      className: 'Statement',\n",
       "      containsAMetavariable: [Function: containsAMetavariable]\n",
       "    }\n",
       "  }\n",
       "}"
      ]
     },
     "execution_count": 6,
     "metadata": {},
     "output_type": "execute_result"
    }
   ],
   "source": [
    "P.getSolutions()[0]"
   ]
  },
  {
   "cell_type": "markdown",
   "metadata": {},
   "source": [
    "## Using FIC\n",
    "\n",
    "Let's build a rule of logic and ask if it can be used to prove something.\n",
    "\n",
    "To do so, we build an auxiliary routine that recursively converts any capitalized identifier to a metavariable, just for a simple convention we'll use here."
   ]
  },
  {
   "cell_type": "code",
   "execution_count": 7,
   "metadata": {},
   "outputs": [
    {
     "data": {
      "text/html": [
       "<pre>{ :X :Y and(X,Y) }</pre>"
      ],
      "text/latex": [
       "$\\{~{:}X~{:}Y~and(X,Y)~\\}$"
      ],
      "text/plain": [
       "<ref *1> Environment {\n",
       "  attributes: { declaration: 'none', formula: false },\n",
       "  parentNode: null,\n",
       "  childList: [\n",
       "    Statement {\n",
       "      attributes: [Object],\n",
       "      parentNode: [Circular *1],\n",
       "      childList: [],\n",
       "      dirty: false,\n",
       "      className: 'Statement',\n",
       "      containsAMetavariable: [Function: containsAMetavariable]\n",
       "    },\n",
       "    Statement {\n",
       "      attributes: [Object],\n",
       "      parentNode: [Circular *1],\n",
       "      childList: [],\n",
       "      dirty: false,\n",
       "      className: 'Statement',\n",
       "      containsAMetavariable: [Function: containsAMetavariable]\n",
       "    },\n",
       "    Statement {\n",
       "      attributes: [Object],\n",
       "      parentNode: [Circular *1],\n",
       "      childList: [Array],\n",
       "      dirty: false,\n",
       "      className: 'Statement',\n",
       "      containsAMetavariable: [Function: containsAMetavariable]\n",
       "    }\n",
       "  ],\n",
       "  dirty: false,\n",
       "  className: 'Environment',\n",
       "  containsAMetavariable: [Function: containsAMetavariable],\n",
       "  isAQuantifier: false\n",
       "}"
      ]
     },
     "execution_count": 7,
     "metadata": {},
     "output_type": "execute_result"
    }
   ],
   "source": [
    "rule = LC.fromString( '{ :X :Y and(X,Y) }' )\n",
    "setCapitalsMetavars( rule )\n",
    "rule"
   ]
  },
  {
   "cell_type": "markdown",
   "metadata": {},
   "source": [
    "We can then pose the following problem and ask for all ways that FIC derivation with matching can solve it (if any).\n",
    "\n",
    "$$a, ~ b, ~ \\{~{:}X~{:}Y~and(X,Y)~\\} \\vdash and(b,a)$$"
   ]
  },
  {
   "cell_type": "code",
   "execution_count": 8,
   "metadata": {},
   "outputs": [
    {
     "data": {
      "text/html": [
       "<tt>a, b, { :X :Y and(X,Y) }</tt> $~\\vdash~$ <tt>and(b,a)</tt>"
      ],
      "text/latex": [
       "$a, b, \\{~{:}X~{:}Y~and(X,Y)~\\} \\vdash and(b,a)$"
      ],
      "text/plain": [
       "Turnstile {\n",
       "  premises: [\n",
       "    Statement {\n",
       "      attributes: [Object],\n",
       "      parentNode: null,\n",
       "      childList: [],\n",
       "      dirty: false,\n",
       "      className: 'Statement',\n",
       "      containsAMetavariable: [Function: containsAMetavariable]\n",
       "    },\n",
       "    Statement {\n",
       "      attributes: [Object],\n",
       "      parentNode: null,\n",
       "      childList: [],\n",
       "      dirty: false,\n",
       "      className: 'Statement',\n",
       "      containsAMetavariable: [Function: containsAMetavariable]\n",
       "    },\n",
       "    Environment {\n",
       "      attributes: [Object],\n",
       "      parentNode: null,\n",
       "      childList: [Array],\n",
       "      dirty: false,\n",
       "      className: 'Environment',\n",
       "      containsAMetavariable: [Function: containsAMetavariable],\n",
       "      isAQuantifier: false\n",
       "    }\n",
       "  ],\n",
       "  conclusion: Statement {\n",
       "    attributes: { identifier: 'and' },\n",
       "    parentNode: null,\n",
       "    childList: [ [Statement], [Statement] ],\n",
       "    dirty: false,\n",
       "    className: 'Statement',\n",
       "    containsAMetavariable: [Function: containsAMetavariable]\n",
       "  }\n",
       "}"
      ]
     },
     "execution_count": 8,
     "metadata": {},
     "output_type": "execute_result"
    }
   ],
   "source": [
    "T = new Turnstile(\n",
    "    [ LC.fromString( 'a' ), LC.fromString( 'b' ), rule ],\n",
    "    LC.fromString( 'and(b,a)' ) )\n",
    "T"
   ]
  },
  {
   "cell_type": "code",
   "execution_count": 9,
   "metadata": {},
   "outputs": [
    {
     "data": {
      "text/plain": [
       "[\n",
       "  MatchingSolution {\n",
       "    _mapping: { X: [Statement], Y: [Statement] },\n",
       "    proof: Proof { turnstile: [Turnstile], rule: 'GL', subproofs: [Array] }\n",
       "  }\n",
       "]"
      ]
     },
     "execution_count": 9,
     "metadata": {},
     "output_type": "execute_result"
    }
   ],
   "source": [
    "ms = T.allDerivationMatches( { withProofs: true } )\n",
    "ms"
   ]
  },
  {
   "cell_type": "markdown",
   "metadata": {},
   "source": [
    "Apparently there is one way, but again, it's reported as an array of one solution, so it didn't pretty-print.  Let's ask for the solution by itself so we can see."
   ]
  },
  {
   "cell_type": "code",
   "execution_count": 10,
   "metadata": {},
   "outputs": [
    {
     "data": {
      "text/html": [
       "<table style=\"border: 1px solid black;\"><tr><td>Metavariable</td><td>Instantiation</td></tr><tr><td>X</td><td style=\"text-align: left;\">b</td></tr><tr><td>Y</td><td style=\"text-align: left;\">a</td></tr></table>"
      ],
      "text/latex": [
       "\\begin{tabular}{rl}\n",
       "Metavariable & Instantiation \\\\\\hline\n",
       "X & $b$\\\\\n",
       "Y & $a$\n",
       "\\end{tabular}"
      ],
      "text/plain": [
       "MatchingSolution {\n",
       "  _mapping: {\n",
       "    X: Statement {\n",
       "      attributes: [Object],\n",
       "      parentNode: null,\n",
       "      childList: [],\n",
       "      dirty: false,\n",
       "      className: 'Statement',\n",
       "      containsAMetavariable: [Function: containsAMetavariable]\n",
       "    },\n",
       "    Y: Statement {\n",
       "      attributes: [Object],\n",
       "      parentNode: null,\n",
       "      childList: [],\n",
       "      dirty: false,\n",
       "      className: 'Statement',\n",
       "      containsAMetavariable: [Function: containsAMetavariable]\n",
       "    }\n",
       "  },\n",
       "  proof: Proof {\n",
       "    turnstile: Turnstile { premises: [Array], conclusion: [Statement] },\n",
       "    rule: 'GL',\n",
       "    subproofs: [ [Proof], [Proof] ]\n",
       "  }\n",
       "}"
      ]
     },
     "execution_count": 10,
     "metadata": {},
     "output_type": "execute_result"
    }
   ],
   "source": [
    "ms[0]"
   ]
  },
  {
   "cell_type": "markdown",
   "metadata": {},
   "source": [
    "Okay, the solution requires the instantiation $X=b$ and $Y=a$, but what is the proof?"
   ]
  },
  {
   "cell_type": "code",
   "execution_count": 11,
   "metadata": {},
   "outputs": [
    {
     "data": {
      "text/html": [
       "<table style=\"border: 1px solid black;\"><tr><td style=\"text-align: left;\"><tt>a, b, { :b :a and(b,a) }</tt> $~\\vdash~$ <tt>and(b,a)</tt></td><td style=\"text-align: left;\">GL</td></tr><tr><td style=\"text-align: left;\">&nbsp; &nbsp; &nbsp; &nbsp; &nbsp; &nbsp; <tt>a, b, and(b,a)</tt> $~\\vdash~$ <tt>and(b,a)</tt></td><td style=\"text-align: left;\">S</td></tr><tr><td style=\"text-align: left;\">&nbsp; &nbsp; &nbsp; &nbsp; &nbsp; &nbsp; <tt>a, b</tt> $~\\vdash~$ <tt>{ b a }</tt></td><td style=\"text-align: left;\">CR</td></tr><tr><td style=\"text-align: left;\">&nbsp; &nbsp; &nbsp; &nbsp; &nbsp; &nbsp; &nbsp; &nbsp; &nbsp; &nbsp; &nbsp; &nbsp; <tt>a, b</tt> $~\\vdash~$ <tt>b</tt></td><td style=\"text-align: left;\">S</td></tr><tr><td style=\"text-align: left;\">&nbsp; &nbsp; &nbsp; &nbsp; &nbsp; &nbsp; &nbsp; &nbsp; &nbsp; &nbsp; &nbsp; &nbsp; <tt>a, b</tt> $~\\vdash~$ <tt>{ a }</tt></td><td style=\"text-align: left;\">CR</td></tr><tr><td style=\"text-align: left;\">&nbsp; &nbsp; &nbsp; &nbsp; &nbsp; &nbsp; &nbsp; &nbsp; &nbsp; &nbsp; &nbsp; &nbsp; &nbsp; &nbsp; &nbsp; &nbsp; &nbsp; &nbsp; <tt>a, b</tt> $~\\vdash~$ <tt>a</tt></td><td style=\"text-align: left;\">S</td></tr><tr><td style=\"text-align: left;\">&nbsp; &nbsp; &nbsp; &nbsp; &nbsp; &nbsp; &nbsp; &nbsp; &nbsp; &nbsp; &nbsp; &nbsp; &nbsp; &nbsp; &nbsp; &nbsp; &nbsp; &nbsp; <tt>a, b</tt> $~\\vdash~$ <tt>{  }</tt></td><td style=\"text-align: left;\">T</td></tr><tr><td style=\"text-align: left;\"><tt></tt></td><td style=\"text-align: left;\"></td></tr></table>"
      ],
      "text/latex": [
       "$\\begin{array}{ll}a,~b,~\\{~{:}b~{:}a~and(b,a)~\\}~\\vdash~and(b,a) & \\text{GL}\\\\\n",
       "\\hspace{1cm}a,~b,~and(b,a)~\\vdash~and(b,a) & \\text{S}\\\\\n",
       "\\hspace{1cm}a,~b~\\vdash~\\{~b~a~\\} & \\text{CR}\\\\\n",
       "\\hspace{1cm}\\hspace{1cm}a,~b~\\vdash~b & \\text{S}\\\\\n",
       "\\hspace{1cm}\\hspace{1cm}a,~b~\\vdash~\\{~a~\\} & \\text{CR}\\\\\n",
       "\\hspace{1cm}\\hspace{1cm}\\hspace{1cm}a,~b~\\vdash~a & \\text{S}\\\\\n",
       "\\hspace{1cm}\\hspace{1cm}\\hspace{1cm}a,~b~\\vdash~\\{~~\\} & \\text{T}\\\\\n",
       " & \\text{}\\end{array}$"
      ],
      "text/plain": [
       "Proof {\n",
       "  turnstile: Turnstile {\n",
       "    premises: [ [Statement], [Statement], [Environment] ],\n",
       "    conclusion: Statement {\n",
       "      attributes: [Object],\n",
       "      parentNode: null,\n",
       "      childList: [Array],\n",
       "      dirty: false,\n",
       "      className: 'Statement',\n",
       "      containsAMetavariable: [Function: containsAMetavariable]\n",
       "    }\n",
       "  },\n",
       "  rule: 'GL',\n",
       "  subproofs: [\n",
       "    Proof { turnstile: [Turnstile], rule: 'S', subproofs: [] },\n",
       "    Proof { turnstile: [Turnstile], rule: 'CR', subproofs: [Array] }\n",
       "  ]\n",
       "}"
      ]
     },
     "execution_count": 11,
     "metadata": {},
     "output_type": "execute_result"
    }
   ],
   "source": [
    "ms[0].proof"
   ]
  },
  {
   "cell_type": "markdown",
   "metadata": {},
   "source": [
    "Ooh, proofs pretty-print, too!  Nice."
   ]
  }
 ],
 "metadata": {
  "kernelspec": {
   "display_name": "Javascript (Node.js)",
   "language": "javascript",
   "name": "javascript"
  },
  "language_info": {
   "file_extension": ".js",
   "mimetype": "application/javascript",
   "name": "javascript",
   "version": "13.10.1"
  }
 },
 "nbformat": 4,
 "nbformat_minor": 4
}
